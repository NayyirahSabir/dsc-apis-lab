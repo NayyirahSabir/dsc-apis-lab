{
 "cells": [
  {
   "cell_type": "markdown",
   "metadata": {},
   "source": [
    "# APIs - Cumulative Lab\n",
    "\n",
    "\n",
    "## Introduction \n",
    "\n",
    "We've seen how the Yelp API works and how to create basic visualizations using Folium. It's time to put those skills to work in order to create a working map! Taking things a step further, you'll also independently explore how to perform pagination in order to retrieve a full results set from the Yelp API.\n",
    "\n",
    "## Objectives\n",
    "\n",
    "You will be able to: \n",
    "\n",
    "* Practice using functions to organize your code\n",
    "* Use pagination to retrieve all results from an API query\n",
    "* Practice parsing data returned from an API query\n",
    "* Practice interpreting visualizations of a dataset\n",
    "* Create maps using Folium"
   ]
  },
  {
   "cell_type": "markdown",
   "metadata": {},
   "source": [
    "## Your Task: Query Yelp for All Businesses in a Category and Analyze the Results\n",
    "\n",
    "![restaurant counter with pizza](images/restaurant_counter.jpg)\n",
    "\n",
    "Photo by <a href=\"https://unsplash.com/@jordanmadrid?utm_source=unsplash&utm_medium=referral&utm_content=creditCopyText\">Jordan Madrid</a> on <a href=\"/s/photos/pizza-restaurant?utm_source=unsplash&utm_medium=referral&utm_content=creditCopyText\">Unsplash</a>"
   ]
  },
  {
   "cell_type": "markdown",
   "metadata": {},
   "source": [
    "### Overview\n",
    "\n",
    "You've now worked with some API calls, but we have yet to see how to retrieve a more complete dataset in a programmatic manner. In this lab, you will write a query of businesses on Yelp, then use *pagination* to retrieve all possible results for that query. Then you will create a summary of your findings, including a Folium map of the geographic locations of those businesses.\n",
    "\n",
    "### Technical Details\n",
    "\n",
    "Returning to the Yelp API, the [documentation](https://www.yelp.com/developers/documentation/v3/business_search) also provides us details regarding the **API limits**. These often include details about the number of requests a user is allowed to make within a specified time limit and the maximum number of results to be returned. In this case, we are told that any request has a **maximum of 50 results per request** and defaults to 20. Furthermore, any search will be limited to a **total of 1000 results**. To retrieve all 1000 of these results, we would have to page through the results piece by piece, retrieving 50 at a time. Processes such as these are often referred to as pagination.\n",
    "\n",
    "Also, be mindful of the **API** ***rate*** **limits**. You can only make **5000 requests per day** and are also can make requests too fast. Start prototyping small before running a loop that could be faulty. You can also use `time.sleep(n)` to add delays. For more details see https://www.yelp.com/developers/documentation/v3/rate_limiting.\n",
    "\n",
    "In this lab, you will define a search and then paginate over the results to retrieve all of the results. You'll then parse these responses as a list of dictionaries (for further exploration) and create a map using Folium to visualize the results geographically.\n",
    "\n",
    "### Requirements\n",
    "\n",
    "#### 1. Make the Initial Request\n",
    "\n",
    "Start by filling in your API key to make the initial request to the business search API. Investigate the structure of the response you get back and start figuring out how you will extract the relevant information.\n",
    "\n",
    "#### 2. Add Pagination\n",
    "\n",
    "Using loops and functions, collect the maximum number of results for your query from the API.\n",
    "\n",
    "#### 3. Perform Exploratory Analysis\n",
    "\n",
    "Interpret visualizations related to the price range, average rating, and number of reviews for all query results.\n",
    "\n",
    "#### 4. Create a Folium Map\n",
    "\n",
    "Using latitude and longitude data, plot the query results on an interactive map."
   ]
  },
  {
   "cell_type": "markdown",
   "metadata": {},
   "source": [
    "## 1. Make the Initial Request\n",
    "\n",
    "### Querying\n",
    "\n",
    "Start by making an initial request to the Yelp API. Your search must include at least 2 parameters: **term** and **location**. For example, you might search for pizza restaurants in NYC. The term and location is up to you but make the request below.\n",
    "\n",
    "Use the `requests` library ([documentation here](https://requests.readthedocs.io/en/master/user/quickstart/#make-a-request)).\n",
    "\n",
    "You'll also need an API key from Yelp. If you haven't done this already, go to the Yelp [Manage App page](https://www.yelp.com/developers/v3/manage_app) and create a new app (after making an account if you haven't already)."
   ]
  },
  {
   "cell_type": "code",
   "execution_count": 1,
   "metadata": {},
   "outputs": [
    {
     "data": {
      "text/plain": [
       "<Response [200]>"
      ]
     },
     "execution_count": 1,
     "metadata": {},
     "output_type": "execute_result"
    }
   ],
   "source": [
    "# Replace None with appropriate code\n",
    "\n",
    "# Import the requests library\n",
    "import requests\n",
    "\n",
    "# Get this from the \"Manage App\" page. Make sure you set them\n",
    "# back to None before pushing this to GitHub, since otherwise\n",
    "# your credentials will be compromised\n",
    "api_key = None\n",
    "\n",
    "# These can be whatever you want! But the solution uses \"pizza\"\n",
    "# and \"New York NY\" if you want to compare your work directly\n",
    "term = 'kimchi bibimbap bowl'\n",
    "location = 'New York NY'\n",
    "\n",
    "# Set up params for request\n",
    "url = \"https://api.yelp.com/v3/businesses/search\"\n",
    "headers = {\n",
    "    \"Authorization\": \"Bearer {}\".format(api_key)\n",
    "}\n",
    "url_params = {\n",
    "    \"term\": term.replace(\" \", \"+\"),\n",
    "    \"location\": location.replace(\" \", \"+\")\n",
    "}\n",
    "\n",
    "# Make the request using requests.get, passing in\n",
    "# url, headers=headers, and params=url_params\n",
    "response = requests.get(url, headers = headers, params = url_params)\n",
    "\n",
    "# Confirm we got a 200 response\n",
    "response"
   ]
  },
  {
   "cell_type": "code",
   "execution_count": 2,
   "metadata": {},
   "outputs": [
    {
     "data": {
      "text/plain": [
       "dict_keys(['businesses', 'total', 'region'])"
      ]
     },
     "execution_count": 2,
     "metadata": {},
     "output_type": "execute_result"
    }
   ],
   "source": [
    "# Run this cell without changes\n",
    "\n",
    "# Get the response body in JSON format\n",
    "response_json = response.json()\n",
    "# View the keys\n",
    "response_json.keys()"
   ]
  },
  {
   "cell_type": "markdown",
   "metadata": {},
   "source": [
    "### Extracting Data\n",
    "\n",
    "Now, retrieve the value associated with the `'businesses'` key, and inspect its contents."
   ]
  },
  {
   "cell_type": "code",
   "execution_count": 3,
   "metadata": {},
   "outputs": [
    {
     "data": {
      "text/plain": [
       "[{'id': 'fMf4P22m65creknIICuaXA',\n",
       "  'alias': 'kuun-brooklyn',\n",
       "  'name': 'Kuun',\n",
       "  'image_url': 'https://s3-media3.fl.yelpcdn.com/bphoto/Y6Aas_QbGHCkq6McOVwIHw/o.jpg',\n",
       "  'is_closed': False,\n",
       "  'url': 'https://www.yelp.com/biz/kuun-brooklyn?adjust_creative=KT74fjtOvJwk3cs-TzLZZw&utm_campaign=yelp_api_v3&utm_medium=api_v3_business_search&utm_source=KT74fjtOvJwk3cs-TzLZZw',\n",
       "  'review_count': 145,\n",
       "  'categories': [{'alias': 'korean', 'title': 'Korean'}],\n",
       "  'rating': 4.5,\n",
       "  'coordinates': {'latitude': 40.6884292, 'longitude': -73.9831506},\n",
       "  'transactions': ['pickup', 'delivery'],\n",
       "  'location': {'address1': '290 Livingston St',\n",
       "   'address2': '',\n",
       "   'address3': None,\n",
       "   'city': 'Brooklyn',\n",
       "   'zip_code': '11217',\n",
       "   'country': 'US',\n",
       "   'state': 'NY',\n",
       "   'display_address': ['290 Livingston St', 'Brooklyn, NY 11217']},\n",
       "  'phone': '+19179091466',\n",
       "  'display_phone': '(917) 909-1466',\n",
       "  'distance': 2125.374239024866},\n",
       " {'id': 'md5mjDamLsh1uxHDU9PfGA',\n",
       "  'alias': 'mr-mista-oh-new-york',\n",
       "  'name': 'Mr Mista Oh',\n",
       "  'image_url': 'https://s3-media1.fl.yelpcdn.com/bphoto/snXB7jumjpHvaAB-TFWV9w/o.jpg',\n",
       "  'is_closed': False,\n",
       "  'url': 'https://www.yelp.com/biz/mr-mista-oh-new-york?adjust_creative=KT74fjtOvJwk3cs-TzLZZw&utm_campaign=yelp_api_v3&utm_medium=api_v3_business_search&utm_source=KT74fjtOvJwk3cs-TzLZZw',\n",
       "  'review_count': 120,\n",
       "  'categories': [{'alias': 'korean', 'title': 'Korean'}],\n",
       "  'rating': 4.5,\n",
       "  'coordinates': {'latitude': 40.74324, 'longitude': -73.99123},\n",
       "  'transactions': ['pickup', 'delivery'],\n",
       "  'price': '$$',\n",
       "  'location': {'address1': '41 W 24th St',\n",
       "   'address2': None,\n",
       "   'address3': '',\n",
       "   'city': 'New York',\n",
       "   'zip_code': '10010',\n",
       "   'country': 'US',\n",
       "   'state': 'NY',\n",
       "   'display_address': ['41 W 24th St', 'New York, NY 10010']},\n",
       "  'phone': '+16465598858',\n",
       "  'display_phone': '(646) 559-8858',\n",
       "  'distance': 4214.777209058021}]"
      ]
     },
     "execution_count": 3,
     "metadata": {},
     "output_type": "execute_result"
    }
   ],
   "source": [
    "# Replace None with appropriate code\n",
    "\n",
    "# Retrieve the value from response_json\n",
    "businesses = response_json['businesses']\n",
    "\n",
    "# View the first 2 records\n",
    "businesses[:2]"
   ]
  },
  {
   "cell_type": "markdown",
   "metadata": {},
   "source": [
    "### Preparing Data\n",
    "\n",
    "Write a function `prepare_data` that takes in a list of dictionaries like `businesses` and returns a copy that has been prepared for analysis:\n",
    "\n",
    "1. The `coordinates` key-value pair has been converted into two separate key-value pairs, `latitude` and `longitude`\n",
    "2. All other key-value pairs except for `name`, `review_count`, `rating`, and `price` have been dropped\n",
    "3. All dictionaries missing one of the relevant keys or containing null values have been dropped\n",
    "\n",
    "In other words, the final keys for each dictionary should be `name`, `review_count`, `rating`, `price`, `latitude`, and `longitude`.\n",
    "\n",
    "Complete the function in the cell below:"
   ]
  },
  {
   "cell_type": "code",
   "execution_count": 4,
   "metadata": {},
   "outputs": [
    {
     "data": {
      "text/plain": [
       "[{'name': 'Mr Mista Oh',\n",
       "  'review_count': 120,\n",
       "  'rating': 4.5,\n",
       "  'price': '$$',\n",
       "  'latitude': 40.74324,\n",
       "  'longitude': -73.99123},\n",
       " {'name': 'Tiger Box',\n",
       "  'review_count': 74,\n",
       "  'rating': 4.5,\n",
       "  'price': '$',\n",
       "  'latitude': 40.6963379,\n",
       "  'longitude': -73.972758},\n",
       " {'name': 'Gammeeok',\n",
       "  'review_count': 461,\n",
       "  'rating': 3.5,\n",
       "  'price': '$$',\n",
       "  'latitude': 40.747653,\n",
       "  'longitude': -73.986114},\n",
       " {'name': 'Cho Dang Gol Korean Restaurant',\n",
       "  'review_count': 1269,\n",
       "  'rating': 4.0,\n",
       "  'price': '$$',\n",
       "  'latitude': 40.7502365112305,\n",
       "  'longitude': -73.986198425293},\n",
       " {'name': 'Red Poke',\n",
       "  'review_count': 599,\n",
       "  'rating': 4.5,\n",
       "  'price': '$$',\n",
       "  'latitude': 40.7588993,\n",
       "  'longitude': -73.991915}]"
      ]
     },
     "execution_count": 4,
     "metadata": {},
     "output_type": "execute_result"
    }
   ],
   "source": [
    "# Replace None with appropriate code\n",
    "\n",
    "def prepare_data(data_list):\n",
    "    \"\"\"\n",
    "    This function takes in a list of dictionaries and prepares it\n",
    "    for analysis\n",
    "    \"\"\"\n",
    "    \n",
    "    # Make a new list to hold results\n",
    "    results = []\n",
    "    \n",
    "    for business_data in data_list:\n",
    "    \n",
    "        # Make a new dictionary to hold prepared data for this business\n",
    "        prepared_data = {}\n",
    "        \n",
    "        # Extract name, review_count, rating, and price key-value pairs\n",
    "        # from business_data and add to prepared_data\n",
    "        # If a key is not present in business_data, add it to prepared_data\n",
    "        # with an associated value of None\n",
    "        for data in ('name', 'review_count', 'rating', 'price'):\n",
    "            prepared_data[data] = business_data.get(data, None)\n",
    "        \n",
    "    \n",
    "        # Parse and add latitude and longitude columns\n",
    "#         lat = place(businesses[, place in businesses['coordinates'] if place[0]\n",
    "#         long = place for bsns, place in businesses['coordinates'] if place[1]\n",
    "        coordinates = business_data[\"coordinates\"]\n",
    "        prepared_data[\"latitude\"] = coordinates[\"latitude\"]\n",
    "        prepared_data[\"longitude\"] = coordinates[\"longitude\"]\n",
    "        # Add to list if all values are present\n",
    "        if all(prepared_data.values()):\n",
    "            results.append(prepared_data)\n",
    "    \n",
    "    return results\n",
    "    \n",
    "# Test out function\n",
    "prepared_businesses = prepare_data(businesses)\n",
    "prepared_businesses[:5]"
   ]
  },
  {
   "cell_type": "markdown",
   "metadata": {},
   "source": [
    "Check that your function created the correct keys:"
   ]
  },
  {
   "cell_type": "code",
   "execution_count": 5,
   "metadata": {},
   "outputs": [],
   "source": [
    "# Run this cell without changes\n",
    "\n",
    "assert sorted(list(prepared_businesses[0].keys())) == ['latitude', 'longitude', 'name', 'price', 'rating', 'review_count']"
   ]
  },
  {
   "cell_type": "markdown",
   "metadata": {},
   "source": [
    "The following code will differ depending on your query, but we expect there to be 20 businesses in the original list, and potentially fewer in the prepared list (if any of them were missing data):"
   ]
  },
  {
   "cell_type": "code",
   "execution_count": 6,
   "metadata": {},
   "outputs": [
    {
     "name": "stdout",
     "output_type": "stream",
     "text": [
      "Original: 20\n",
      "Prepared: 17\n"
     ]
    }
   ],
   "source": [
    "# Run this cell without changes\n",
    "print(\"Original:\", len(businesses))\n",
    "print(\"Prepared:\", len(prepared_businesses))"
   ]
  },
  {
   "cell_type": "markdown",
   "metadata": {},
   "source": [
    "Great! We will reuse this function once we have retrieved the full dataset."
   ]
  },
  {
   "cell_type": "markdown",
   "metadata": {},
   "source": [
    "## 2. Add Pagination\n",
    "\n",
    "Now that you are able to extract information from one page of the response, let's figure out how to request as many pages as possible.\n",
    "\n",
    "### Determining the Total\n",
    "\n",
    "Depending on the number of total results for your query, you will either retrieve all of the results, or just the first 1000 (if there are more than 1000 total).\n",
    "\n",
    "We can find the total number of results using the `\"total\"` key:"
   ]
  },
  {
   "cell_type": "code",
   "execution_count": 7,
   "metadata": {},
   "outputs": [
    {
     "data": {
      "text/plain": [
       "363"
      ]
     },
     "execution_count": 7,
     "metadata": {},
     "output_type": "execute_result"
    }
   ],
   "source": [
    "# Run this cell without changes\n",
    "response_json[\"total\"]"
   ]
  },
  {
   "cell_type": "markdown",
   "metadata": {},
   "source": [
    "(This is specific to the implementation of the Yelp API. Some APIs will just tell you that there are more pages, or will tell you the number of pages total, rather than the total number of results. If you're not sure, always check the documentation.)\n",
    "\n",
    "In the cell below, assign the variable `total` to either the value shown above (if it is less than 1000), or 1000."
   ]
  },
  {
   "cell_type": "code",
   "execution_count": 8,
   "metadata": {},
   "outputs": [],
   "source": [
    "# Replace None with appropriate code\n",
    "total = 365"
   ]
  },
  {
   "cell_type": "markdown",
   "metadata": {},
   "source": [
    "### Calculating the Offsets\n",
    "\n",
    "The documentation states in the parameters section:\n",
    "\n",
    "> **Name**: `limit`, **Type:** int, **Description:** Optional. Number of business results to return. By default, it will return 20. Maximum is 50.\n",
    "\n",
    "> **Name**: `offset`, **Type:** int, **Description:** Optional. Offset the list of returned business results by this amount.\n",
    "\n",
    "So, to get the most results with the fewest API calls we want to set a limit of 50 every time. If, say, we wanted to get 210 total results, that would mean:\n",
    "\n",
    "1. Offset of `0` (first 50 records)\n",
    "2. Offset of `50` (second 50 records)\n",
    "3. Offset of `100` (third 50 records)\n",
    "4. Offset of `150` (fourth 50 records)\n",
    "5. Offset of `200` (final 10 records)\n",
    "\n",
    "In the cell below, create a function `get_offsets` that takes in a total and returns a list of offsets for that total. You can assume that there is a limit of 50 every time.\n",
    "\n",
    "*Hint: you can use `range` ([documentation here](https://docs.python.org/3.3/library/stdtypes.html?highlight=range#range)) to do this in one line of code. Just make the returned result is a list.*"
   ]
  },
  {
   "cell_type": "code",
   "execution_count": 9,
   "metadata": {},
   "outputs": [],
   "source": [
    "# Replace None with appropriate code\n",
    "def get_offsets(total):\n",
    "    return list(range(0, total, 50))\n",
    "    \"\"\"\n",
    "    Get a list of offsets needed to get all pages\n",
    "    of data up until the total\n",
    "    \"\"\"\n"
   ]
  },
  {
   "cell_type": "markdown",
   "metadata": {},
   "source": [
    "Check that your function works below:"
   ]
  },
  {
   "cell_type": "code",
   "execution_count": 10,
   "metadata": {},
   "outputs": [],
   "source": [
    "# Run this cell without changes\n",
    "\n",
    "assert get_offsets(200) == [0, 50, 100, 150]\n",
    "assert get_offsets(210) == [0, 50, 100, 150, 200]"
   ]
  },
  {
   "cell_type": "markdown",
   "metadata": {},
   "source": [
    "### Putting It All Together\n",
    "\n",
    "Recall that the following variable has already been declared for you:"
   ]
  },
  {
   "cell_type": "code",
   "execution_count": 11,
   "metadata": {},
   "outputs": [
    {
     "data": {
      "text/plain": [
       "{'term': 'kimchi+bibimbap+bowl', 'location': 'New+York+NY'}"
      ]
     },
     "execution_count": 11,
     "metadata": {},
     "output_type": "execute_result"
    }
   ],
   "source": [
    "# Run this cell without changes\n",
    "url_params"
   ]
  },
  {
   "cell_type": "markdown",
   "metadata": {},
   "source": [
    "We'll go ahead and also specify that the limit should be 50 every time:"
   ]
  },
  {
   "cell_type": "code",
   "execution_count": 12,
   "metadata": {},
   "outputs": [],
   "source": [
    "# Run this cell without changes\n",
    "url_params[\"limit\"] = 50"
   ]
  },
  {
   "cell_type": "markdown",
   "metadata": {},
   "source": [
    "In order to modify the offset, you'll need to add it to `url_params` with the key `\"offset\"` and whatever value is needed.\n",
    "\n",
    "In the cell below, write code that:\n",
    "\n",
    "* Creates an empty list for the full prepared dataset\n",
    "* Loops over all of the offsets from `get_offsets` and makes an API call each time with the specified offset\n",
    "* Calls `prepare_data` to get a cleaned version of the result of each API call\n",
    "* Extends the full prepared dataset list with each query's prepared dataset"
   ]
  },
  {
   "cell_type": "code",
   "execution_count": 13,
   "metadata": {},
   "outputs": [
    {
     "data": {
      "text/plain": [
       "315"
      ]
     },
     "execution_count": 13,
     "metadata": {},
     "output_type": "execute_result"
    }
   ],
   "source": [
    "# Replace None with appropriate code\n",
    "\n",
    "# Create an empty list for the full prepared dataset\n",
    "full_dataset = []\n",
    "\n",
    "for offset in get_offsets(total):\n",
    "    # Add or update the \"offset\" key-value pair in url_params\n",
    "#     url_params = {'offset': offset}\n",
    "    url_params['offset'] = offset\n",
    "    \n",
    "    # Make the query and get the response\n",
    "    response = requests.get(url, headers=headers, params=url_params)\n",
    "    \n",
    "    \n",
    "    # Get the response body in JSON format\n",
    "    response_json = response.json()\n",
    "#     print(response_json)\n",
    "#     break\n",
    "    \n",
    "    \n",
    "    # Get the list of businesses from the response_json\n",
    "    businesses = response_json['businesses']\n",
    "    \n",
    "    # Call the prepare_data function to get a list of processed data\n",
    "    prepared_businesses = prepare_data(businesses)\n",
    "    \n",
    "    # Extend full_dataset with this list (don't append, or you'll get\n",
    "    # a list of lists instead of a flat list)\n",
    "    full_dataset.extend(prepared_businesses)\n",
    "\n",
    "# Check the length of the full dataset. It will be up to `total`,\n",
    "# potentially less if there were missing values\n",
    "len(full_dataset)"
   ]
  },
  {
   "cell_type": "markdown",
   "metadata": {},
   "source": [
    "This code may take up to a few minutes to run.\n",
    "\n",
    "If you get an error trying to get the response body in JSON format, try adding `time.sleep(1)` right after the `requests.get` line, so your code will sleep for 1 second between each API call."
   ]
  },
  {
   "cell_type": "markdown",
   "metadata": {},
   "source": [
    "## 3. Perform Exploratory Analysis\n",
    "\n",
    "Take the businesses from the previous question and do an initial exploratory analysis. We have provided some plots for you to interpret:"
   ]
  },
  {
   "cell_type": "code",
   "execution_count": 14,
   "metadata": {},
   "outputs": [
    {
     "data": {
      "image/png": "[encoded data removed]",
      "text/plain": [
       "<Figure size 1152x360 with 3 Axes>"
      ]
     },
     "metadata": {
      "needs_background": "light"
     },
     "output_type": "display_data"
    }
   ],
   "source": [
    "# Run this cell without changes\n",
    "from collections import Counter\n",
    "import matplotlib.pyplot as plt\n",
    "%matplotlib inline\n",
    "\n",
    "fig, (ax1, ax2, ax3) = plt.subplots(ncols=3, figsize=(16, 5))\n",
    "\n",
    "# Plot distribution of number of reviews\n",
    "all_review_counts = [x[\"review_count\"] for x in full_dataset]\n",
    "ax1.hist(all_review_counts)\n",
    "ax1.set_title(\"Review Count Distribution\")\n",
    "ax1.set_xlabel(\"Number of Reviews\")\n",
    "ax1.set_ylabel(\"Number of Businesses\")\n",
    "\n",
    "# Plot rating distribution\n",
    "all_ratings = [x[\"rating\"] for x in full_dataset]\n",
    "rating_counter = Counter(all_ratings)\n",
    "rating_keys = sorted(rating_counter.keys())\n",
    "ax2.bar(rating_keys, [rating_counter[key] for key in rating_keys])\n",
    "ax2.set_title(\"Rating Distribution\")\n",
    "ax2.set_xlabel(\"Rating\")\n",
    "ax2.set_ylabel(\"Number of Businesses\")\n",
    "\n",
    "# Plot price distribution\n",
    "all_prices = [x[\"price\"].replace(\"$\", r\"\\$\") for x in full_dataset]\n",
    "price_counter = Counter(all_prices)\n",
    "price_keys = sorted(price_counter.keys())\n",
    "ax3.bar(price_keys, [price_counter[key] for key in price_keys])\n",
    "ax3.set_title(\"Price Distribution\")\n",
    "ax3.set_xlabel(\"Price Category\")\n",
    "ax3.set_ylabel(\"Number of Businesses\");\n"
   ]
  },
  {
   "cell_type": "markdown",
   "metadata": {},
   "source": [
    "Describe the distributions displayed above and interpret them in the context of your query. (Your answer may differ from the solution branch depending on your query.)"
   ]
  },
  {
   "cell_type": "code",
   "execution_count": 23,
   "metadata": {},
   "outputs": [
    {
     "data": {
      "text/plain": [
       "\"\\nThe data shows that these places have a high distribution of reviews, likely because it's in a major city with a large number of visitors. The ratings are mostly positive which shows that these places have good tasting food with unique choices for mostly affordable prices. There are very few of them that go for a very high price, but even among those, the food places sell relatively well.\\n\""
      ]
     },
     "execution_count": 23,
     "metadata": {},
     "output_type": "execute_result"
    }
   ],
   "source": [
    "# Replace None with appropriate text\n",
    "\"\"\"\n",
    "The data shows that these places have a high distribution of reviews, likely because it's in a major city with a large number of visitors. The ratings are mostly positive which shows that these places have good tasting food with unique choices for mostly affordable prices. There are very few of them that go for a very high price, but even among those, the food places sell relatively well.\n",
    "\"\"\""
   ]
  },
  {
   "cell_type": "markdown",
   "metadata": {},
   "source": [
    "In the cell below, we also plot the rating distributions by price. In this setup, a price of one dollar sign is \"lower price\" and everything else is \"higher price\"."
   ]
  },
  {
   "cell_type": "code",
   "execution_count": 21,
   "metadata": {},
   "outputs": [
    {
     "data": {
      "image/png": "[encoded data removed]",
      "text/plain": [
       "<Figure size 432x288 with 1 Axes>"
      ]
     },
     "metadata": {
      "needs_background": "light"
     },
     "output_type": "display_data"
    }
   ],
   "source": [
    "# Run this cell without changes\n",
    "\n",
    "higher_price = []\n",
    "lower_price = []\n",
    "for row in full_dataset:\n",
    "    if row[\"price\"] == \"$\":\n",
    "        lower_price.append(row[\"rating\"])\n",
    "    else:\n",
    "        higher_price.append(row[\"rating\"])\n",
    "        \n",
    "fig, ax = plt.subplots()\n",
    "\n",
    "ax.hist([higher_price, lower_price], label=[\"higher price\", \"lower price\"], density=True)\n",
    "\n",
    "ax.legend();"
   ]
  },
  {
   "cell_type": "markdown",
   "metadata": {},
   "source": [
    "Is a higher price associated with a higher rating? (No need for any additional math/statistics, just interpret what you see in the plot.)"
   ]
  },
  {
   "cell_type": "code",
   "execution_count": 22,
   "metadata": {},
   "outputs": [
    {
     "data": {
      "text/plain": [
       "\"\\nHigh price isn't necessarily associated with a higher rating because lower priced places and foods have a high rating as well. The higher priced places do have very good ratings and this fact is still significant to the data.\\n\""
      ]
     },
     "execution_count": 22,
     "metadata": {},
     "output_type": "execute_result"
    }
   ],
   "source": [
    "# Replace None with appropriate text\n",
    "\"\"\"\n",
    "High price isn't necessarily associated with a higher rating because lower priced places and foods have a high rating as well. The higher priced places do have very good ratings and this fact is still significant to the data.\n",
    "\"\"\""
   ]
  },
  {
   "cell_type": "markdown",
   "metadata": {},
   "source": [
    "Finally, let's look at ratings vs. review counts:"
   ]
  },
  {
   "cell_type": "code",
   "execution_count": 24,
   "metadata": {},
   "outputs": [
    {
     "data": {
      "image/png": "[encoded data removed]",
      "text/plain": [
       "<Figure size 1152x360 with 1 Axes>"
      ]
     },
     "metadata": {
      "needs_background": "light"
     },
     "output_type": "display_data"
    }
   ],
   "source": [
    "# Run this cell without changes\n",
    "fig, ax = plt.subplots(figsize=(16,5))\n",
    "\n",
    "ax.scatter(all_review_counts, all_ratings, alpha=0.2)\n",
    "ax.set_xlabel(\"Number of Reviews\")\n",
    "ax.set_ylabel(\"Rating\")\n",
    "# \"zoom in\" to a subset of review counts\n",
    "ax.set_xlim(left=0, right=1000);"
   ]
  },
  {
   "cell_type": "markdown",
   "metadata": {},
   "source": [
    "Is a higher number of reviews associated with a higher rating?"
   ]
  },
  {
   "cell_type": "code",
   "execution_count": 29,
   "metadata": {},
   "outputs": [
    {
     "data": {
      "text/plain": [
       "{'name': 'Tiger Box',\n",
       " 'review_count': 74,\n",
       " 'rating': 4.5,\n",
       " 'price': '$',\n",
       " 'latitude': 40.6963379,\n",
       " 'longitude': -73.972758}"
      ]
     },
     "execution_count": 29,
     "metadata": {},
     "output_type": "execute_result"
    }
   ],
   "source": [
    "# Replace None with appropriate text\n",
    "\"\"\"\n",
    "A high number of reviews are somewhat associated with a higer rating. The places with a higher count of reviews have high ratings, but there are very few of those places. The number of reviews average around the 200 range and have mostly a 3.5 to 4.5 rating, so we can rule out that the majority of places with around 200 ratings have high ratings, the places with 1000 or more ratings also have very good ranks. \n",
    "\"\"\"\n",
    "full_dataset[1]\n"
   ]
  },
  {
   "cell_type": "markdown",
   "metadata": {},
   "source": [
    "## 4. Create a Folium Map\n",
    "\n",
    "Make a map using Folium of the businesses you retrieved. Be sure to also add popups to the markers giving some basic information such as name, rating and price.\n",
    "\n",
    "You can center the map around the latitude and longitude of the first item in `full_dataset`."
   ]
  },
  {
   "cell_type": "code",
   "execution_count": 30,
   "metadata": {},
   "outputs": [
    {
     "data": {
      "text/html": [
       "<div style=\"width:100%;\"><div style=\"position:relative;width:100%;height:0;padding-bottom:60%;\"><span style=\"color:#565656\">Make this Notebook Trusted to load map: File -> Trust Notebook</span><iframe src=\"about:blank\" style=\"position:absolute;width:100%;height:100%;left:0;top:0;border:none !important;\" data-html=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 onload=\"this.contentDocument.open();this.contentDocument.write(atob(this.getAttribute('data-html')));this.contentDocument.close();\" allowfullscreen webkitallowfullscreen mozallowfullscreen></iframe></div></div>"
      ],
      "text/plain": [
       "<folium.folium.Map at 0x7fe428431130>"
      ]
     },
     "execution_count": 30,
     "metadata": {},
     "output_type": "execute_result"
    }
   ],
   "source": [
    "# Replace None with appropriate code\n",
    "\n",
    "# Import the library\n",
    "import folium\n",
    "\n",
    "# Set up center latitude and longitude\n",
    "center_lat = full_dataset[1]['latitude']\n",
    "center_long = full_dataset[1]['longitude']\n",
    "\n",
    "# Initialize map with center lat and long\n",
    "yelp_map = folium.Map([center_lat, center_long], zoom_start = 13)\n",
    "\n",
    "# Adjust this limit to see more or fewer businesses\n",
    "limit = 50\n",
    "\n",
    "for business in full_dataset[:limit]:\n",
    "    # Extract information about business\n",
    "    lat = business['latitude']\n",
    "    long = business['longitude']\n",
    "    name = business['name']\n",
    "    rating = business['rating']\n",
    "    price = business['price']\n",
    "    details = \"{}\\nPrice: {} Rating:{}\".format(name,price,rating)\n",
    "    \n",
    "    # Create popup with relevant details\n",
    "    popup = folium.Popup(details, parse_html = True)\n",
    "    \n",
    "    # Create marker with relevant lat/long and popup\n",
    "    marker = folium.Marker(location = [lat, long], popup = popup)\n",
    "    \n",
    "    marker.add_to(yelp_map)\n",
    "    \n",
    "yelp_map"
   ]
  },
  {
   "cell_type": "markdown",
   "metadata": {},
   "source": [
    "## Summary\n",
    "\n",
    "Nice work! In this lab, you've made multiple API calls to Yelp in order to paginate through a results set, performing some basic exploratory analysis and then creating a nice interactive map to display the results using Folium! Well done!"
   ]
  }
 ],
 "metadata": {
  "kernelspec": {
   "display_name": "Python 3",
   "language": "python",
   "name": "python3"
  },
  "language_info": {
   "codemirror_mode": {
    "name": "ipython",
    "version": 3
   },
   "file_extension": ".py",
   "mimetype": "text/x-python",
   "name": "python",
   "nbconvert_exporter": "python",
   "pygments_lexer": "ipython3",
   "version": "3.8.5"
  },
  "toc": {
   "base_numbering": 1,
   "nav_menu": {},
   "number_sections": true,
   "sideBar": true,
   "skip_h1_title": false,
   "title_cell": "Table of Contents",
   "title_sidebar": "Contents",
   "toc_cell": false,
   "toc_position": {},
   "toc_section_display": true,
   "toc_window_display": false
  }
 },
 "nbformat": 4,
 "nbformat_minor": 2
}
